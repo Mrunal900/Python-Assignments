{
 "cells": [
  {
   "cell_type": "markdown",
   "id": "c0d304ae-b7a1-40ad-a62a-4344a3efbe99",
   "metadata": {},
   "source": [
    "Q1. Explain with an example each when to use a for loop and a while loop."
   ]
  },
  {
   "cell_type": "markdown",
   "id": "1fd78905-e04a-48ce-abdd-859b84ceeac4",
   "metadata": {},
   "source": [
    "The for loop is used when we know the number of iterations, that is, how many times a statement must be executed. That is why, when we initialize the for loop, we must define the ending point.\n",
    "\n",
    "A while loop is used when the number of iterations is unknown. It is used when we need to end the loop on a condition other than the number of repetitions. It is not necessary to know the condition ahead of time in this case. That is why we can use a boolean expression in the loop's initialization."
   ]
  },
  {
   "cell_type": "code",
   "execution_count": 1,
   "id": "edfd153f-9aee-40ba-8ff6-54d457a9eb0e",
   "metadata": {},
   "outputs": [
    {
     "name": "stdout",
     "output_type": "stream",
     "text": [
      "0\n",
      "1\n",
      "2\n",
      "3\n",
      "4\n",
      "5\n",
      "6\n",
      "7\n",
      "8\n",
      "9\n"
     ]
    }
   ],
   "source": [
    "#For Loop Example:\n",
    "#for loop to print integers from 0 to 9\n",
    "\n",
    "for i in range(0,10):\n",
    "    print(i)"
   ]
  },
  {
   "cell_type": "code",
   "execution_count": 7,
   "id": "85e21152-1345-4374-b47a-0c080b5c665d",
   "metadata": {},
   "outputs": [
    {
     "name": "stdout",
     "output_type": "stream",
     "text": [
      "0\n",
      "1\n",
      "2\n",
      "3\n",
      "4\n",
      "5\n",
      "6\n",
      "7\n",
      "8\n",
      "9\n"
     ]
    }
   ],
   "source": [
    "# while loop Example:\n",
    "#while loop to print integers from 0 to 9\n",
    "i = 0\n",
    "while i<10:\n",
    "    print(i)\n",
    "    i = i + 1"
   ]
  },
  {
   "cell_type": "markdown",
   "id": "ebf7f59a-54b3-46f1-93b3-49c24d5ba548",
   "metadata": {},
   "source": [
    "Q2. Write a python program to print the sum and product of the first 10 natural numbers using for\n",
    "and while loop."
   ]
  },
  {
   "cell_type": "code",
   "execution_count": 10,
   "id": "509ea13a-9117-4e60-9b74-e444930630d9",
   "metadata": {},
   "outputs": [
    {
     "name": "stdout",
     "output_type": "stream",
     "text": [
      "the sum and product of the first 10 natural numbers using for loop is  55  and  3628800\n"
     ]
    }
   ],
   "source": [
    "_sum = 0 \n",
    "product = 1\n",
    "for i in range(1,11):\n",
    "    _sum = _sum+i\n",
    "    product = product*i\n",
    "print(\"the sum and product of the first 10 natural numbers using for loop is \",_sum,\" and \",product)"
   ]
  },
  {
   "cell_type": "code",
   "execution_count": 12,
   "id": "2b5d31d5-4e0a-46f7-81e3-2a372a96c13d",
   "metadata": {},
   "outputs": [
    {
     "name": "stdout",
     "output_type": "stream",
     "text": [
      "the sum and product of the first 10 natural numbers using while loop is  55  and  3628800\n"
     ]
    }
   ],
   "source": [
    "_sum = 0\n",
    "product = 1\n",
    "i = 1\n",
    "while i<11:\n",
    "    _sum = _sum+i\n",
    "    product = product*i\n",
    "    i = i + 1\n",
    "print(\"the sum and product of the first 10 natural numbers using while loop is \",_sum,\" and \",product)"
   ]
  },
  {
   "cell_type": "markdown",
   "id": "9cad7748-3462-42db-8c7b-3844a6138242",
   "metadata": {},
   "source": [
    "Q3. Create a python program to compute the electricity bill for a household.\n",
    "\n",
    "The per-unit charges in rupees are as follows: For the first 100 units, the user will be charged Rs. 4.5 per\n",
    "unit, for the next 100 units, the user will be charged Rs. 6 per unit, and for the next 100 units, the user will\n",
    "be charged Rs. 10 per unit, After 300 units and above the user will be charged Rs. 20 per unit.\n",
    "\n",
    "You are required to take the units of electricity consumed in a month from the user as input.\n",
    "\n",
    "Your program must pass this test case: when the unit of electricity consumed by the user in a month is\n",
    "310, the total electricity bill should be 2250."
   ]
  },
  {
   "cell_type": "code",
   "execution_count": 14,
   "id": "70fc71d4-5770-49d3-8949-1eccaf005bc2",
   "metadata": {},
   "outputs": [
    {
     "name": "stdout",
     "output_type": "stream",
     "text": [
      "2250.0\n"
     ]
    }
   ],
   "source": [
    "units = 310\n",
    "if units <= 100:\n",
    "    bill = units*4.5\n",
    "elif units > 100 and units <=200:\n",
    "    bill = (100 * 4.5) + ((units-100)*6)\n",
    "elif units > 200 and units <= 300:\n",
    "    bill = (100 * 4.5) + (100 * 6) + ((units-200)*10)\n",
    "else :\n",
    "    bill = (100 * 4.5) + (100 * 6) + (100 * 10) + ((units-300)*20)\n",
    "    \n",
    "print(bill)"
   ]
  },
  {
   "cell_type": "markdown",
   "id": "587dc79f-bdf9-4de7-bf9e-85ba5cabec7c",
   "metadata": {},
   "source": [
    "Q4. Create a list of numbers from 1 to 100. Use for loop and while loop to calculate the cube of each\n",
    "number and if the cube of that number is divisible by 4 or 5 then append that number in a list and print\n",
    "that list."
   ]
  },
  {
   "cell_type": "code",
   "execution_count": 16,
   "id": "1cf099c0-6e54-4c63-af6a-4907e245ef69",
   "metadata": {},
   "outputs": [
    {
     "name": "stdout",
     "output_type": "stream",
     "text": [
      "[2, 4, 5, 6, 8, 10, 12, 14, 15, 16, 18, 20, 22, 24, 25, 26, 28, 30, 32, 34, 35, 36, 38, 40, 42, 44, 45, 46, 48, 50, 52, 54, 55, 56, 58, 60, 62, 64, 65, 66, 68, 70, 72, 74, 75, 76, 78, 80, 82, 84, 85, 86, 88, 90, 92, 94, 95, 96, 98, 100]\n"
     ]
    }
   ],
   "source": [
    "li = []\n",
    "for i in range(1,101):\n",
    "    if i**3%4==0 or i**3%5==0:\n",
    "        li.append(i)\n",
    "print(li)"
   ]
  },
  {
   "cell_type": "markdown",
   "id": "dde554a4-0544-4a9e-b493-a4dce7749233",
   "metadata": {},
   "source": [
    "Q5. Write a program to filter count vowels in the below-given string.\n",
    "string = \"I want to become a data scientist\""
   ]
  },
  {
   "cell_type": "code",
   "execution_count": 27,
   "id": "28d3d41b-e72f-467e-96c0-22be3ecade78",
   "metadata": {},
   "outputs": [
    {
     "ename": "SyntaxError",
     "evalue": "unterminated string literal (detected at line 1) (3006430155.py, line 1)",
     "output_type": "error",
     "traceback": [
      "\u001b[0;36m  Cell \u001b[0;32mIn[27], line 1\u001b[0;36m\u001b[0m\n\u001b[0;31m    vowels = \"\"AaEeIiOoUu\"\u001b[0m\n\u001b[0m                         ^\u001b[0m\n\u001b[0;31mSyntaxError\u001b[0m\u001b[0;31m:\u001b[0m unterminated string literal (detected at line 1)\n"
     ]
    }
   ],
   "source": [
    "vowels = \"AaEeIiOoUu\"\n",
    "string = \"I want to become a data scientist\"\n",
    "count = 0\n",
    "for i in string:\n",
    "    if i in vowels:\n",
    "        count = count + 1\n",
    "print(count)"
   ]
  },
  {
   "cell_type": "code",
   "execution_count": null,
   "id": "87cb8d4b-91f3-432c-a05e-165e5ac91ed2",
   "metadata": {},
   "outputs": [],
   "source": []
  }
 ],
 "metadata": {
  "kernelspec": {
   "display_name": "Python 3 (ipykernel)",
   "language": "python",
   "name": "python3"
  },
  "language_info": {
   "codemirror_mode": {
    "name": "ipython",
    "version": 3
   },
   "file_extension": ".py",
   "mimetype": "text/x-python",
   "name": "python",
   "nbconvert_exporter": "python",
   "pygments_lexer": "ipython3",
   "version": "3.10.8"
  }
 },
 "nbformat": 4,
 "nbformat_minor": 5
}
